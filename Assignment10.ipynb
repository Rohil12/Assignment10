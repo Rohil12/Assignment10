{
 "cells": [
  {
   "cell_type": "code",
   "execution_count": 1,
   "id": "4a4d0fa0-c99b-4c6b-8458-2ebe602fe8e3",
   "metadata": {},
   "outputs": [],
   "source": [
    "# Q.1 \n",
    "# In python,all exceptions must be instances of a class that derives from BaseException.\n",
    "# The Exception class is a built-in class in python that inherits from BaseException and is the base\n",
    "# class for all built-in exception, except for system exiting exceptions and other exceptions that are intended for direct inheritance\n",
    "# By inheriting from the Exception class when creating a custom exception,we ensure that our custom exceptin is treated like other exceptions in python .\n",
    "# It can be caught using an except clause, it has a standard error message, and it integrates with the python traceback system.This makes our custom exception useful \n",
    "# and predictable for others who might use our code"
   ]
  },
  {
   "cell_type": "code",
   "execution_count": 4,
   "id": "f2bc0c14-340e-4e14-a43e-32df0bd60bd1",
   "metadata": {},
   "outputs": [
    {
     "data": {
      "text/plain": [
       "['__cause__',\n",
       " '__class__',\n",
       " '__context__',\n",
       " '__delattr__',\n",
       " '__dict__',\n",
       " '__dir__',\n",
       " '__doc__',\n",
       " '__eq__',\n",
       " '__format__',\n",
       " '__ge__',\n",
       " '__getattribute__',\n",
       " '__gt__',\n",
       " '__hash__',\n",
       " '__init__',\n",
       " '__init_subclass__',\n",
       " '__le__',\n",
       " '__lt__',\n",
       " '__ne__',\n",
       " '__new__',\n",
       " '__reduce__',\n",
       " '__reduce_ex__',\n",
       " '__repr__',\n",
       " '__setattr__',\n",
       " '__setstate__',\n",
       " '__sizeof__',\n",
       " '__str__',\n",
       " '__subclasshook__',\n",
       " '__suppress_context__',\n",
       " '__traceback__',\n",
       " 'args',\n",
       " 'with_traceback']"
      ]
     },
     "execution_count": 4,
     "metadata": {},
     "output_type": "execute_result"
    }
   ],
   "source": [
    "# Q.2 \n",
    "dir(Exception)"
   ]
  },
  {
   "cell_type": "code",
   "execution_count": 13,
   "id": "4d64d58e-9ffe-4ecc-84d5-120f0a7d409d",
   "metadata": {},
   "outputs": [
    {
     "name": "stdout",
     "output_type": "stream",
     "text": [
      "This is exception division by zero\n"
     ]
    }
   ],
   "source": [
    "# Q.3\n",
    "# The ArithmeticError class in python is a base class for exceptions that are raised for various arithmetic error.\n",
    "# 1.ZeroDivisionError:Raised when the second argument passed to the / or % standard division or modulo operator is zero\n",
    "# 2.OverflowError:Raised when a mathematical operation exceeds the maximum limit of the data type\n",
    "# 3. FloatingpointError: Raised when a floating-point operator fails\n",
    "\n",
    "try:\n",
    "    x = 1/0\n",
    "except ZeroDivisionError as e:\n",
    "    print(\"This is exception\",e)"
   ]
  },
  {
   "cell_type": "code",
   "execution_count": 30,
   "id": "c7808033-b386-4fda-b497-ed334eed1e98",
   "metadata": {},
   "outputs": [
    {
     "name": "stdout",
     "output_type": "stream",
     "text": [
      "This is exception Exceeds the limit (4300) for integer string conversion; use sys.set_int_max_str_digits() to increase the limit\n"
     ]
    }
   ],
   "source": [
    "try:\n",
    "    result = 10 ** 10000\n",
    "    print (result)\n",
    "#This is a representation of Overflow Error as it exceeds the maximum limit\n",
    "except ValueError as e:\n",
    "    print(\"This is exception\",e)\n"
   ]
  },
  {
   "cell_type": "code",
   "execution_count": 3,
   "id": "ff949cfb-44e4-4969-ba13-99c6a2b70f2e",
   "metadata": {},
   "outputs": [],
   "source": [
    "# Q.4 \n",
    "# The LookupError class in python is a built-in exception that serves as the base class for\n",
    "# exceptions triggered when a key or index used on a mapping or sequence is invalid. This means \n",
    "# it's the parent class for exceptions like KeyError and IndexError\n",
    "\n",
    "#KeyError: This error is raised when you try to access a key that isn't present in a dictionary\n",
    "#IndexError: This error is raised when you "
   ]
  },
  {
   "cell_type": "code",
   "execution_count": 6,
   "id": "d93f5200-4686-472c-9f9a-8c81a41e9c9a",
   "metadata": {},
   "outputs": [
    {
     "name": "stdout",
     "output_type": "stream",
     "text": [
      "This is KeyError exception 'c'\n"
     ]
    }
   ],
   "source": [
    "try:\n",
    "    dictionary={'a':1,'b':2}\n",
    "    print(dictionary['c'])\n",
    "except KeyError as e:\n",
    "    print(\"This is KeyError exception\",e)"
   ]
  },
  {
   "cell_type": "code",
   "execution_count": 7,
   "id": "64bf2638-3bc4-4725-b2cb-2a95e2124c61",
   "metadata": {},
   "outputs": [
    {
     "name": "stdout",
     "output_type": "stream",
     "text": [
      "This is IndexError exception list index out of range\n"
     ]
    }
   ],
   "source": [
    "try:\n",
    "    list = [1,2,3]\n",
    "    print(list[3])\n",
    "except IndexError as e:\n",
    "    print(\"This is IndexError exception\",e)"
   ]
  },
  {
   "cell_type": "code",
   "execution_count": 8,
   "id": "ae35ca97-cc54-4f86-b6b6-f49dc525d262",
   "metadata": {},
   "outputs": [],
   "source": [
    "# Q.5\n",
    "# ImportError is a built-in exception in python that is raised when an import statement fails to find \n",
    "# the module definition or when a from import fails to find a name that is to be imported. this error can occur due to several reasons\n",
    "#1.inccorect module name 2. circular dependency 3.Incorrect path\n",
    "\n",
    "# ModuleNotFoundError is a subclass of ImportError it's raised when Python cannot find the module you are\n",
    "# trying to import. This error can occur due to several reasons"
   ]
  },
  {
   "cell_type": "code",
   "execution_count": null,
   "id": "961aaec7-04bf-49c6-9c3e-ab2415474a46",
   "metadata": {},
   "outputs": [],
   "source": [
    "# Q.6\n",
    "#1. use always a specific exceptions\n",
    "#2. Print always a proper message\n",
    "#3. always try to log your error\n",
    "#4. always avoid to write a multiple exception handling \n",
    "#5. document all the error\n"
   ]
  }
 ],
 "metadata": {
  "kernelspec": {
   "display_name": "Python 3 (ipykernel)",
   "language": "python",
   "name": "python3"
  },
  "language_info": {
   "codemirror_mode": {
    "name": "ipython",
    "version": 3
   },
   "file_extension": ".py",
   "mimetype": "text/x-python",
   "name": "python",
   "nbconvert_exporter": "python",
   "pygments_lexer": "ipython3",
   "version": "3.10.8"
  }
 },
 "nbformat": 4,
 "nbformat_minor": 5
}
